{
 "cells": [
  {
   "cell_type": "markdown",
   "metadata": {},
   "source": [
    "# Numpy Practice"
   ]
  },
  {
   "cell_type": "markdown",
   "metadata": {},
   "source": [
    "### Importing necessary libraries"
   ]
  },
  {
   "cell_type": "code",
   "execution_count": 314,
   "metadata": {},
   "outputs": [],
   "source": [
    "import numpy as np\n",
    "import matplotlib.pyplot as plt\n",
    "import scipy as sp\n",
    "import pandas as pd"
   ]
  },
  {
   "cell_type": "markdown",
   "metadata": {},
   "source": [
    "\n",
    "### 1-D Array"
   ]
  },
  {
   "cell_type": "code",
   "execution_count": 315,
   "metadata": {},
   "outputs": [
    {
     "name": "stdout",
     "output_type": "stream",
     "text": [
      "[1 3 5]\n",
      "[2 4 6]\n"
     ]
    }
   ],
   "source": [
    "a = np.array([1, 3, 5])\n",
    "b = np.array([2, 4, 6])\n",
    "\n",
    "print(a)\n",
    "print(b)"
   ]
  },
  {
   "cell_type": "markdown",
   "metadata": {},
   "source": [
    "### How to multiply 2 Matrix element by element?"
   ]
  },
  {
   "cell_type": "code",
   "execution_count": 316,
   "metadata": {},
   "outputs": [
    {
     "name": "stdout",
     "output_type": "stream",
     "text": [
      "[ 2 12 30]\n"
     ]
    }
   ],
   "source": [
    "c = a*b\n",
    "print(c)"
   ]
  },
  {
   "cell_type": "markdown",
   "metadata": {},
   "source": [
    "### 2D array"
   ]
  },
  {
   "cell_type": "code",
   "execution_count": 317,
   "metadata": {},
   "outputs": [
    {
     "name": "stdout",
     "output_type": "stream",
     "text": [
      "[[1 2 3]\n",
      " [3 4 5]]\n"
     ]
    }
   ],
   "source": [
    "d2 = np.array([[1,2,3],[3,4,5]])\n",
    "print(d2)"
   ]
  },
  {
   "cell_type": "markdown",
   "metadata": {},
   "source": [
    "### Get dimensions of an array"
   ]
  },
  {
   "cell_type": "code",
   "execution_count": 318,
   "metadata": {},
   "outputs": [
    {
     "name": "stdout",
     "output_type": "stream",
     "text": [
      "2\n"
     ]
    }
   ],
   "source": [
    "print(d2.ndim)"
   ]
  },
  {
   "cell_type": "code",
   "execution_count": 319,
   "metadata": {},
   "outputs": [
    {
     "name": "stdout",
     "output_type": "stream",
     "text": [
      "b = [1 2 3]\n",
      "data type = int16\n",
      "each item size = 2\n",
      "total item no = 3\n"
     ]
    }
   ],
   "source": [
    "#change data type of an array\n",
    "b = np.array([1, 2, 3], dtype='int16')\n",
    "print('b =', b)\n",
    "\n",
    "#get data type\n",
    "print('data type =',b.dtype)\n",
    "\n",
    "#print per item size of the array\n",
    "print('each item size =' , b.itemsize)\n",
    "\n",
    "#print total size (in item number) of array \n",
    "print('total item no =', b.size)\n"
   ]
  },
  {
   "cell_type": "code",
   "execution_count": 320,
   "metadata": {},
   "outputs": [
    {
     "name": "stdout",
     "output_type": "stream",
     "text": [
      "total byte size = 6\n",
      "total size (byte) = 6\n"
     ]
    }
   ],
   "source": [
    "#print total size (in byte)\n",
    "print('total byte size =', b.size * b.itemsize)\n",
    "\n",
    "#Alternate way to get total size (in byte)\n",
    "print('total size (byte) =', b.nbytes)"
   ]
  },
  {
   "cell_type": "code",
   "execution_count": 321,
   "metadata": {},
   "outputs": [
    {
     "name": "stdout",
     "output_type": "stream",
     "text": [
      "(3,)\n",
      "(2, 3)\n"
     ]
    }
   ],
   "source": [
    "#get shape\n",
    "print(b.shape)\n",
    "print(d2.shape)"
   ]
  },
  {
   "cell_type": "markdown",
   "metadata": {},
   "source": [
    "## Accessing, changing element of array"
   ]
  },
  {
   "cell_type": "code",
   "execution_count": 322,
   "metadata": {},
   "outputs": [
    {
     "name": "stdout",
     "output_type": "stream",
     "text": [
      "[[1 2 3 4 5 6]\n",
      " [6 5 4 3 2 1]\n",
      " [1 2 3 4 5 6]]\n"
     ]
    }
   ],
   "source": [
    "#2-D array\n",
    "a = np.array([[1,2,3,4,5,6], [6,5,4,3,2,1], [1,2,3,4,5,6]])\n",
    "print(a)"
   ]
  },
  {
   "cell_type": "code",
   "execution_count": 323,
   "metadata": {},
   "outputs": [
    {
     "name": "stdout",
     "output_type": "stream",
     "text": [
      "(3, 6)\n"
     ]
    }
   ],
   "source": [
    "print(a.shape)"
   ]
  },
  {
   "cell_type": "code",
   "execution_count": 324,
   "metadata": {},
   "outputs": [
    {
     "name": "stdout",
     "output_type": "stream",
     "text": [
      "6\n"
     ]
    }
   ],
   "source": [
    "#get a specific element\n",
    "print(a[1,-6])"
   ]
  },
  {
   "cell_type": "code",
   "execution_count": 325,
   "metadata": {},
   "outputs": [
    {
     "name": "stdout",
     "output_type": "stream",
     "text": [
      "[6 5 4 3 2 1]\n",
      "[1 6 1]\n"
     ]
    }
   ],
   "source": [
    "#get a row\n",
    "print(a[1,:])\n",
    "\n",
    "#get a column\n",
    "print(a[:, 0])"
   ]
  },
  {
   "cell_type": "code",
   "execution_count": 326,
   "metadata": {},
   "outputs": [
    {
     "name": "stdout",
     "output_type": "stream",
     "text": [
      "[5 3]\n",
      "[5 3]\n"
     ]
    }
   ],
   "source": [
    "#loop on index {start: end: increment} -> excluding the end index\n",
    "print(a[1, 1:5:2])\n",
    "print(a[1, 1:-2:2])"
   ]
  },
  {
   "cell_type": "code",
   "execution_count": 327,
   "metadata": {},
   "outputs": [
    {
     "name": "stdout",
     "output_type": "stream",
     "text": [
      "[[  1   2   3   4   5   6]\n",
      " [  6   5   4   3 100   1]\n",
      " [  1   2   3   4   5   6]]\n",
      "[[  1   2   3   4 200   6]\n",
      " [  6   5   4   3 200   1]\n",
      " [  1   2   3   4 200   6]]\n",
      "[[  1   2   3   4 200   6]\n",
      " [300 300 300 300 300 300]\n",
      " [  1   2   3   4 200   6]]\n"
     ]
    }
   ],
   "source": [
    "#modify\n",
    "a[1,4] = 100\n",
    "print(a)\n",
    "\n",
    "a[:,4] = 200\n",
    "print(a)\n",
    "a[1, :] = 300\n",
    "\n",
    "print(a)"
   ]
  },
  {
   "cell_type": "code",
   "execution_count": 328,
   "metadata": {},
   "outputs": [
    {
     "name": "stdout",
     "output_type": "stream",
     "text": [
      "[[[1 2]\n",
      "  [2 3]]\n",
      "\n",
      " [[3 4]\n",
      "  [4 3]]]\n"
     ]
    }
   ],
   "source": [
    "#3-d array\n",
    "a = np.array([[[1,2], [2,3]], [[3,4], [4,3]]])\n",
    "print(a)"
   ]
  },
  {
   "cell_type": "code",
   "execution_count": 329,
   "metadata": {},
   "outputs": [
    {
     "name": "stdout",
     "output_type": "stream",
     "text": [
      "[[2 3]\n",
      " [4 3]]\n"
     ]
    }
   ],
   "source": [
    "# access 3-d\n",
    "print(a[:,:,1])"
   ]
  },
  {
   "cell_type": "markdown",
   "metadata": {},
   "source": [
    "### Initializing different type of arrays"
   ]
  },
  {
   "cell_type": "markdown",
   "metadata": {},
   "source": [
    "In below operation ```np.zeros(5, 5)``` doesn't work because, the second parameter is supposed to be `dtype`. "
   ]
  },
  {
   "cell_type": "code",
   "execution_count": 330,
   "metadata": {},
   "outputs": [
    {
     "name": "stdout",
     "output_type": "stream",
     "text": [
      "[[0. 0. 0. 0. 0.]\n",
      " [0. 0. 0. 0. 0.]\n",
      " [0. 0. 0. 0. 0.]\n",
      " [0. 0. 0. 0. 0.]\n",
      " [0. 0. 0. 0. 0.]]\n"
     ]
    }
   ],
   "source": [
    "#fill with zeros\n",
    "# z = np.zeros((5, 5, 5))...\n",
    "z = np.zeros((5, 5))\n",
    "print(z)"
   ]
  },
  {
   "cell_type": "code",
   "execution_count": 331,
   "metadata": {},
   "outputs": [
    {
     "name": "stdout",
     "output_type": "stream",
     "text": [
      "[[1. 1. 1. 1. 1.]\n",
      " [1. 1. 1. 1. 1.]\n",
      " [1. 1. 1. 1. 1.]\n",
      " [1. 1. 1. 1. 1.]\n",
      " [1. 1. 1. 1. 1.]]\n"
     ]
    }
   ],
   "source": [
    "#fill with ones\n",
    "ones = np.ones((5, 5))\n",
    "print(ones)"
   ]
  },
  {
   "cell_type": "markdown",
   "metadata": {},
   "source": [
    "In below cell, ```np.full``` function takes parameter `a.shape` but ```np.full_like``` takes `a` as parameter. "
   ]
  },
  {
   "cell_type": "code",
   "execution_count": 332,
   "metadata": {},
   "outputs": [
    {
     "name": "stdout",
     "output_type": "stream",
     "text": [
      "[[[1 2]\n",
      "  [2 3]]\n",
      "\n",
      " [[3 4]\n",
      "  [4 3]]]\n",
      "-----a------\n",
      "[[[99 99]\n",
      "  [99 99]]\n",
      "\n",
      " [[99 99]\n",
      "  [99 99]]]\n",
      "------x99-----\n",
      "[[[9 9]\n",
      "  [9 9]]\n",
      "\n",
      " [[9 9]\n",
      "  [9 9]]]\n",
      "------x9-----\n"
     ]
    }
   ],
   "source": [
    "#fill with other numbers\n",
    "# full ((shape), value, dtype)\n",
    "print(a)\n",
    "print('-----a------')\n",
    "x = np.full(a.shape, 99)\n",
    "print(x)\n",
    "print('------x99-----')\n",
    "\n",
    "x = np.full_like(a,9)\n",
    "print(x)\n",
    "print('------x9-----')\n"
   ]
  },
  {
   "cell_type": "markdown",
   "metadata": {},
   "source": [
    "`np.random.rand()` doesn't take a `tuple` as parameter. It takes 1 or more integers as `row` and `column` of the array."
   ]
  },
  {
   "cell_type": "code",
   "execution_count": 333,
   "metadata": {},
   "outputs": [
    {
     "name": "stdout",
     "output_type": "stream",
     "text": [
      "[[[0.1927217  0.70030991]\n",
      "  [0.3205251  0.37029542]\n",
      "  [0.33227756 0.54374355]]\n",
      "\n",
      " [[0.23047124 0.78586622]\n",
      "  [0.72717666 0.51635906]\n",
      "  [0.26909859 0.60644676]]\n",
      "\n",
      " [[0.0679818  0.59771715]\n",
      "  [0.14001211 0.59770785]\n",
      "  [0.76193291 0.66534971]]\n",
      "\n",
      " [[0.61783327 0.74175443]\n",
      "  [0.25135689 0.76335561]\n",
      "  [0.94655714 0.80716157]]]\n"
     ]
    }
   ],
   "source": [
    "# random array\n",
    "r = np.random.rand(4, 3, 2)\n",
    "print(r)"
   ]
  },
  {
   "cell_type": "markdown",
   "metadata": {},
   "source": [
    "As `np.randpm.rand()` doesn't take tuple and `a.shape` returns a tuple, so, `np.random.rand()` can't take `a.shape` as parameter value. So, `np.random.rand(a.shape)` doesn't work. For tuple passing, use `np.random.random_sample((4,3))`"
   ]
  },
  {
   "cell_type": "code",
   "execution_count": 334,
   "metadata": {},
   "outputs": [
    {
     "name": "stdout",
     "output_type": "stream",
     "text": [
      "[[0.9438433  0.87988643 0.85912709]\n",
      " [0.10029998 0.78357395 0.48504643]\n",
      " [0.73908872 0.39253597 0.398486  ]\n",
      " [0.39358327 0.04883552 0.55446959]]\n",
      "_________________________________\n",
      "[[[0.13167748 0.4009431 ]\n",
      "  [0.28720746 0.38185621]]\n",
      "\n",
      " [[0.45061794 0.00172017]\n",
      "  [0.42326739 0.38019697]]]\n"
     ]
    }
   ],
   "source": [
    "# random array but shape of others\n",
    "# print(np.random.rand(a.shape)) -> doesn't work\n",
    "\n",
    "r = np.random.random_sample((4,3)) #it works\n",
    "rr = np.random.random_sample(a.shape)\n",
    "print(r)\n",
    "print('_________________________________')\n",
    "print(rr)"
   ]
  },
  {
   "cell_type": "markdown",
   "metadata": {},
   "source": [
    "### Random integer"
   ]
  },
  {
   "cell_type": "code",
   "execution_count": 335,
   "metadata": {},
   "outputs": [
    {
     "name": "stdout",
     "output_type": "stream",
     "text": [
      "[[1 2 1]\n",
      " [1 2 2]\n",
      " [2 1 2]]\n"
     ]
    }
   ],
   "source": [
    "#array of rand int (starting number, ending number {exclusive}, size = (shape of array))\n",
    "# ri = np.random.randint(1, -3, size=(3,3)) # won't work\n",
    "ri = np.random.randint(1, 3, size=(3,3))\n",
    "print(ri)"
   ]
  },
  {
   "cell_type": "code",
   "execution_count": 336,
   "metadata": {},
   "outputs": [
    {
     "name": "stdout",
     "output_type": "stream",
     "text": [
      "[[1. 0. 0. 0. 0.]\n",
      " [0. 1. 0. 0. 0.]\n",
      " [0. 0. 1. 0. 0.]\n",
      " [0. 0. 0. 1. 0.]\n",
      " [0. 0. 0. 0. 1.]]\n"
     ]
    }
   ],
   "source": [
    "# identity matrix \n",
    "I = np.identity(5)\n",
    "print(I)"
   ]
  },
  {
   "cell_type": "markdown",
   "metadata": {},
   "source": [
    "### Repeat an array"
   ]
  },
  {
   "cell_type": "code",
   "execution_count": 337,
   "metadata": {},
   "outputs": [
    {
     "name": "stdout",
     "output_type": "stream",
     "text": [
      "[1 1 1 2 2 2 3 3 3]\n"
     ]
    }
   ],
   "source": [
    "# repeat array\n",
    "arr = np.array([1,2,3])\n",
    "rp = np.repeat(arr, 3)\n",
    "print(rp)"
   ]
  },
  {
   "cell_type": "code",
   "execution_count": 338,
   "metadata": {},
   "outputs": [
    {
     "name": "stdout",
     "output_type": "stream",
     "text": [
      "[[1 2 3]\n",
      " [1 2 3]\n",
      " [1 2 3]]\n"
     ]
    }
   ],
   "source": [
    "# repeat array\n",
    "arr = np.array([[1,2,3]])\n",
    "rp = np.repeat(arr, 3, axis = 0)\n",
    "print(rp)"
   ]
  },
  {
   "cell_type": "markdown",
   "metadata": {},
   "source": [
    "### Making a specific array\n",
    "Like this - \n",
    "```\n",
    "1 1 1 1 1\n",
    "1 0 0 0 1\n",
    "1 0 9 0 1\n",
    "1 0 0 0 1\n",
    "1 1 1 1 1\n",
    "```"
   ]
  },
  {
   "cell_type": "code",
   "execution_count": 339,
   "metadata": {},
   "outputs": [
    {
     "name": "stdout",
     "output_type": "stream",
     "text": [
      "[[1 1 1 1 1]\n",
      " [1 1 1 1 1]\n",
      " [1 1 1 1 1]\n",
      " [1 1 1 1 1]\n",
      " [1 1 1 1 1]]\n"
     ]
    }
   ],
   "source": [
    "ans = np.ones((5,5), dtype='int64')\n",
    "print(ans)"
   ]
  },
  {
   "cell_type": "code",
   "execution_count": 340,
   "metadata": {},
   "outputs": [
    {
     "name": "stdout",
     "output_type": "stream",
     "text": [
      "[[0. 0. 0.]\n",
      " [0. 9. 0.]\n",
      " [0. 0. 0.]]\n"
     ]
    }
   ],
   "source": [
    "z = np.zeros((3,3))\n",
    "z[1,1] = 9\n",
    "print(z)"
   ]
  },
  {
   "cell_type": "code",
   "execution_count": 341,
   "metadata": {},
   "outputs": [
    {
     "name": "stdout",
     "output_type": "stream",
     "text": [
      "[[1 1 1 1 1]\n",
      " [1 0 0 0 1]\n",
      " [1 0 9 0 1]\n",
      " [1 0 0 0 1]\n",
      " [1 1 1 1 1]]\n"
     ]
    }
   ],
   "source": [
    "ans[1:4, 1:4] = z\n",
    "print(ans)"
   ]
  },
  {
   "cell_type": "markdown",
   "metadata": {},
   "source": [
    "## Copying arrays need Attention!!!\n",
    "`=` does pointer assignment."
   ]
  },
  {
   "cell_type": "code",
   "execution_count": 342,
   "metadata": {},
   "outputs": [
    {
     "name": "stdout",
     "output_type": "stream",
     "text": [
      "[1 2 3]\n",
      "[1 2 3]\n",
      "[ 1 99  3]\n",
      "[ 1 99  3]\n"
     ]
    }
   ],
   "source": [
    "# xxxxxxxxxxxxxxxxxxxxxxx doesn't work\n",
    "# = means assignment\n",
    "a = np.array([1,2,3])\n",
    "print(a)\n",
    "b = a\n",
    "print(b)\n",
    "b[1] = 99\n",
    "print(b)\n",
    "print(a)"
   ]
  },
  {
   "cell_type": "code",
   "execution_count": 343,
   "metadata": {},
   "outputs": [
    {
     "name": "stdout",
     "output_type": "stream",
     "text": [
      "[1 2 3]\n",
      "[1 2 3]\n",
      "[ 1 99  3]\n",
      "[1 2 3]\n"
     ]
    }
   ],
   "source": [
    "a = np.array([1,2,3])\n",
    "print(a)\n",
    "b = a.copy()\n",
    "print(b)\n",
    "b[1] = 99\n",
    "print(b)\n",
    "print(a)"
   ]
  },
  {
   "cell_type": "markdown",
   "metadata": {},
   "source": [
    "# Mathematics"
   ]
  },
  {
   "cell_type": "code",
   "execution_count": 344,
   "metadata": {},
   "outputs": [
    {
     "data": {
      "text/plain": [
       "array([1, 2, 3])"
      ]
     },
     "execution_count": 344,
     "metadata": {},
     "output_type": "execute_result"
    }
   ],
   "source": [
    "a"
   ]
  },
  {
   "cell_type": "code",
   "execution_count": 345,
   "metadata": {},
   "outputs": [
    {
     "data": {
      "text/plain": [
       "array([1, 2, 3])"
      ]
     },
     "execution_count": 345,
     "metadata": {},
     "output_type": "execute_result"
    }
   ],
   "source": [
    "# adds with all elements\n",
    "a = a + 2\n",
    "a = a - 2\n",
    "a"
   ]
  },
  {
   "cell_type": "code",
   "execution_count": 346,
   "metadata": {},
   "outputs": [
    {
     "data": {
      "text/plain": [
       "array([[0.01, 0.02, 0.03],\n",
       "       [0.03, 0.04, 0.05]])"
      ]
     },
     "execution_count": 346,
     "metadata": {},
     "output_type": "execute_result"
    }
   ],
   "source": [
    "b = np.array([[1,2,3], [3,4,5]])\n",
    "b + 100\n",
    "b * 100\n",
    "b / 100"
   ]
  },
  {
   "cell_type": "markdown",
   "metadata": {},
   "source": [
    "In NumPy, `*` doesn't mean `matrix multiplication`. It's just element by element multiplication."
   ]
  },
  {
   "cell_type": "code",
   "execution_count": 351,
   "metadata": {},
   "outputs": [
    {
     "name": "stdout",
     "output_type": "stream",
     "text": [
      "[[100 200 300]\n",
      " [300 400 500]]\n"
     ]
    }
   ],
   "source": [
    "b = np.array([[1,2,3], [3,4,5]])\n",
    "print(b * 100)"
   ]
  },
  {
   "cell_type": "code",
   "execution_count": 347,
   "metadata": {},
   "outputs": [
    {
     "name": "stdout",
     "output_type": "stream",
     "text": [
      "[[100.         100.         100.        ]\n",
      " [ 33.33333333  50.          60.        ]]\n",
      "[[0.01       0.01       0.01      ]\n",
      " [0.03       0.02       0.01666667]]\n"
     ]
    }
   ],
   "source": [
    "x = np.array([[1,2,3], [3,4,5]])\n",
    "y = np.array([100,200, 300])\n",
    "print(y / x) # it works surprisingly! \n",
    "print(x / y)"
   ]
  },
  {
   "cell_type": "code",
   "execution_count": 348,
   "metadata": {},
   "outputs": [
    {
     "data": {
      "text/plain": [
       "array([[ 1,  4,  9],\n",
       "       [ 9, 16, 25]])"
      ]
     },
     "execution_count": 348,
     "metadata": {},
     "output_type": "execute_result"
    }
   ],
   "source": [
    "# power\n",
    "x ** 2"
   ]
  },
  {
   "cell_type": "code",
   "execution_count": 349,
   "metadata": {},
   "outputs": [
    {
     "data": {
      "text/plain": [
       "array([[ 0.84147098,  0.90929743,  0.14112001],\n",
       "       [ 0.14112001, -0.7568025 , -0.95892427]])"
      ]
     },
     "execution_count": 349,
     "metadata": {},
     "output_type": "execute_result"
    }
   ],
   "source": [
    "# trigonometry\n",
    "np.sin(x)"
   ]
  },
  {
   "cell_type": "markdown",
   "metadata": {},
   "source": [
    "# Linear Algebra\n",
    "\n",
    "`Matrix Multiplication` needs `np.matmul` function."
   ]
  },
  {
   "cell_type": "code",
   "execution_count": 357,
   "metadata": {},
   "outputs": [
    {
     "name": "stdout",
     "output_type": "stream",
     "text": [
      "[[9 9 9 9]\n",
      " [9 9 9 9]\n",
      " [9 9 9 9]]\n",
      "[[8 8 8 8 8]\n",
      " [8 8 8 8 8]\n",
      " [8 8 8 8 8]\n",
      " [8 8 8 8 8]]\n",
      "[[288 288 288 288 288]\n",
      " [288 288 288 288 288]\n",
      " [288 288 288 288 288]]\n"
     ]
    }
   ],
   "source": [
    "a = np.full((3,4), 9)\n",
    "print(a)\n",
    "\n",
    "b = np.full((4,5), 8)\n",
    "print(b)\n",
    "\n",
    "c = np.matmul(a,b)\n",
    "print(c)"
   ]
  },
  {
   "cell_type": "code",
   "execution_count": 370,
   "metadata": {},
   "outputs": [
    {
     "name": "stdout",
     "output_type": "stream",
     "text": [
      "[[29.  0.  0.  0.  0.]\n",
      " [ 0. 29.  0.  0.  0.]\n",
      " [ 0.  0. 29.  0.  0.]\n",
      " [ 0.  0.  0. 29.  0.]\n",
      " [ 0.  0.  0.  0. 29.]]\n",
      "20511148.999999985\n"
     ]
    }
   ],
   "source": [
    "#determinent\n",
    "\n",
    "I = np.identity(5) * 29\n",
    "print(I)\n",
    "print(np.linalg.det(I))"
   ]
  },
  {
   "cell_type": "markdown",
   "metadata": {},
   "source": [
    "# Statistics"
   ]
  },
  {
   "cell_type": "code",
   "execution_count": 372,
   "metadata": {},
   "outputs": [
    {
     "name": "stdout",
     "output_type": "stream",
     "text": [
      "[[1 2 3]\n",
      " [4 5 6]]\n"
     ]
    }
   ],
   "source": [
    "s = np.array([[1,2,3],[4,5,6]])\n",
    "print(s)"
   ]
  },
  {
   "cell_type": "code",
   "execution_count": 373,
   "metadata": {},
   "outputs": [
    {
     "data": {
      "text/plain": [
       "1"
      ]
     },
     "execution_count": 373,
     "metadata": {},
     "output_type": "execute_result"
    }
   ],
   "source": [
    "np.min(s)"
   ]
  },
  {
   "cell_type": "code",
   "execution_count": 374,
   "metadata": {},
   "outputs": [
    {
     "data": {
      "text/plain": [
       "6"
      ]
     },
     "execution_count": 374,
     "metadata": {},
     "output_type": "execute_result"
    }
   ],
   "source": [
    "np.max(s)"
   ]
  },
  {
   "cell_type": "markdown",
   "metadata": {},
   "source": [
    "`axis = 0` means iterating over `columns` and `axis = 1` means iterating over `rows`."
   ]
  },
  {
   "cell_type": "code",
   "execution_count": 379,
   "metadata": {
    "scrolled": true
   },
   "outputs": [
    {
     "name": "stdout",
     "output_type": "stream",
     "text": [
      "[1 2 3]\n",
      "[1 4]\n"
     ]
    }
   ],
   "source": [
    "print(np.min(s, axis = 0)) #colms\n",
    "print(np.min(s, axis = 1)) #rows"
   ]
  },
  {
   "cell_type": "code",
   "execution_count": 380,
   "metadata": {},
   "outputs": [
    {
     "data": {
      "text/plain": [
       "21"
      ]
     },
     "execution_count": 380,
     "metadata": {},
     "output_type": "execute_result"
    }
   ],
   "source": [
    "np.sum(s)"
   ]
  },
  {
   "cell_type": "code",
   "execution_count": 384,
   "metadata": {},
   "outputs": [
    {
     "name": "stdout",
     "output_type": "stream",
     "text": [
      "[[1 2 3]\n",
      " [4 5 6]]\n",
      "----------------\n",
      "[5 7 9]\n",
      "[ 6 15]\n"
     ]
    }
   ],
   "source": [
    "print(s)\n",
    "print('----------------')\n",
    "\n",
    "print(np.sum(s, axis = 0))\n",
    "print(np.sum(s , axis = 1))"
   ]
  },
  {
   "cell_type": "markdown",
   "metadata": {},
   "source": [
    "# Reorganizing arrays"
   ]
  },
  {
   "cell_type": "markdown",
   "metadata": {},
   "source": [
    "For reshaping, multiplication of the dimensions must be equal to total element number."
   ]
  },
  {
   "cell_type": "code",
   "execution_count": 403,
   "metadata": {},
   "outputs": [
    {
     "name": "stdout",
     "output_type": "stream",
     "text": [
      "[[1 2 3 4 5]\n",
      " [6 7 8 9 0]\n",
      " [2 4 6 8 9]]\n",
      "[[1 2 3]\n",
      " [4 5 6]\n",
      " [7 8 9]\n",
      " [0 2 4]\n",
      " [6 8 9]]\n"
     ]
    }
   ],
   "source": [
    "before = np.array([[1,2,3,4,5], [6,7,8,9,0], [2,4,6,8,9]])\n",
    "print(before)\n",
    "\n",
    "# reshape \n",
    "after  =  before.reshape((5,3))\n",
    "print(after)"
   ]
  },
  {
   "cell_type": "markdown",
   "metadata": {},
   "source": [
    "`hstack` - horizontal stack\n",
    "`vstack` - vertical stack"
   ]
  },
  {
   "cell_type": "code",
   "execution_count": 411,
   "metadata": {},
   "outputs": [
    {
     "name": "stdout",
     "output_type": "stream",
     "text": [
      "[[1 2 3]\n",
      " [1 3 5]\n",
      " [4 5 6]\n",
      " [7 8 9]]\n",
      "[[1 2 3 4 5 6]\n",
      " [1 3 5 7 8 9]]\n"
     ]
    }
   ],
   "source": [
    "a = np.array([[1,2,3], [1, 3, 5]])\n",
    "b = np.array([[4,5,6], [7,8,9]])\n",
    "print(np.vstack((a, b)))\n",
    "print(np.hstack((a, b)))"
   ]
  },
  {
   "cell_type": "markdown",
   "metadata": {},
   "source": [
    "# Miscellaneous"
   ]
  },
  {
   "cell_type": "code",
   "execution_count": 415,
   "metadata": {},
   "outputs": [
    {
     "name": "stdout",
     "output_type": "stream",
     "text": [
      "[[ 6.1101  17.592  ]\n",
      " [ 5.5277   9.1302 ]\n",
      " [ 8.5186  13.662  ]\n",
      " [ 7.0032  11.854  ]\n",
      " [ 5.8598   6.8233 ]\n",
      " [ 8.3829  11.886  ]\n",
      " [ 7.4764   4.3483 ]\n",
      " [ 8.5781  12.     ]\n",
      " [ 6.4862   6.5987 ]\n",
      " [ 5.0546   3.8166 ]\n",
      " [ 5.7107   3.2522 ]\n",
      " [14.164   15.505  ]\n",
      " [ 5.734    3.1551 ]\n",
      " [ 8.4084   7.2258 ]\n",
      " [ 5.6407   0.71618]\n",
      " [ 5.3794   3.5129 ]\n",
      " [ 6.3654   5.3048 ]\n",
      " [ 5.1301   0.56077]\n",
      " [ 6.4296   3.6518 ]\n",
      " [ 7.0708   5.3893 ]\n",
      " [ 6.1891   3.1386 ]\n",
      " [20.27    21.767  ]\n",
      " [ 5.4901   4.263  ]\n",
      " [ 6.3261   5.1875 ]\n",
      " [ 5.5649   3.0825 ]\n",
      " [18.945   22.638  ]\n",
      " [12.828   13.501  ]\n",
      " [10.957    7.0467 ]\n",
      " [13.176   14.692  ]\n",
      " [22.203   24.147  ]\n",
      " [ 5.2524  -1.22   ]\n",
      " [ 6.5894   5.9966 ]\n",
      " [ 9.2482  12.134  ]\n",
      " [ 5.8918   1.8495 ]\n",
      " [ 8.2111   6.5426 ]\n",
      " [ 7.9334   4.5623 ]\n",
      " [ 8.0959   4.1164 ]\n",
      " [ 5.6063   3.3928 ]\n",
      " [12.836   10.117  ]\n",
      " [ 6.3534   5.4974 ]\n",
      " [ 5.4069   0.55657]\n",
      " [ 6.8825   3.9115 ]\n",
      " [11.708    5.3854 ]\n",
      " [ 5.7737   2.4406 ]\n",
      " [ 7.8247   6.7318 ]\n",
      " [ 7.0931   1.0463 ]\n",
      " [ 5.0702   5.1337 ]\n",
      " [ 5.8014   1.844  ]\n",
      " [11.7      8.0043 ]\n",
      " [ 5.5416   1.0179 ]\n",
      " [ 7.5402   6.7504 ]\n",
      " [ 5.3077   1.8396 ]\n",
      " [ 7.4239   4.2885 ]\n",
      " [ 7.6031   4.9981 ]\n",
      " [ 6.3328   1.4233 ]\n",
      " [ 6.3589  -1.4211 ]\n",
      " [ 6.2742   2.4756 ]\n",
      " [ 5.6397   4.6042 ]\n",
      " [ 9.3102   3.9624 ]\n",
      " [ 9.4536   5.4141 ]\n",
      " [ 8.8254   5.1694 ]\n",
      " [ 5.1793  -0.74279]\n",
      " [21.279   17.929  ]\n",
      " [14.908   12.054  ]\n",
      " [18.959   17.054  ]\n",
      " [ 7.2182   4.8852 ]\n",
      " [ 8.2951   5.7442 ]\n",
      " [10.236    7.7754 ]\n",
      " [ 5.4994   1.0173 ]\n",
      " [20.341   20.992  ]\n",
      " [10.136    6.6799 ]\n",
      " [ 7.3345   4.0259 ]\n",
      " [ 6.0062   1.2784 ]\n",
      " [ 7.2259   3.3411 ]\n",
      " [ 5.0269  -2.6807 ]\n",
      " [ 6.5479   0.29678]\n",
      " [ 7.5386   3.8845 ]\n",
      " [ 5.0365   5.7014 ]\n",
      " [10.274    6.7526 ]\n",
      " [ 5.1077   2.0576 ]\n",
      " [ 5.7292   0.47953]\n",
      " [ 5.1884   0.20421]\n",
      " [ 6.3557   0.67861]\n",
      " [ 9.7687   7.5435 ]\n",
      " [ 6.5159   5.3436 ]\n",
      " [ 8.5172   4.2415 ]\n",
      " [ 9.1802   6.7981 ]\n",
      " [ 6.002    0.92695]\n",
      " [ 5.5204   0.152  ]\n",
      " [ 5.0594   2.8214 ]\n",
      " [ 5.7077   1.8451 ]\n",
      " [ 7.6366   4.2959 ]\n",
      " [ 5.8707   7.2029 ]\n",
      " [ 5.3054   1.9869 ]\n",
      " [ 8.2934   0.14454]\n",
      " [13.394    9.0551 ]\n",
      " [ 5.4369   0.61705]]\n"
     ]
    }
   ],
   "source": [
    "#load data from text file\n",
    "filedata = np.genfromtxt('/media/shamiul93/Study-and-Programming/Machine-Learning-Git/Basic-NumPy-Practice/ex1data1.txt',\n",
    "                         delimiter=',')\n",
    "print(filedata)"
   ]
  },
  {
   "cell_type": "markdown",
   "metadata": {},
   "source": [
    "## Boolean masking and Advanced indexing"
   ]
  },
  {
   "cell_type": "code",
   "execution_count": 422,
   "metadata": {},
   "outputs": [
    {
     "data": {
      "text/plain": [
       "array([ 4.3483 ,  3.8166 ,  3.2522 ,  3.1551 ,  0.71618,  3.5129 ,\n",
       "        0.56077,  3.6518 ,  3.1386 ,  4.263  ,  3.0825 , -1.22   ,\n",
       "        1.8495 ,  4.5623 ,  4.1164 ,  3.3928 ,  0.55657,  3.9115 ,\n",
       "        2.4406 ,  1.0463 ,  1.844  ,  1.0179 ,  1.8396 ,  4.2885 ,\n",
       "        4.9981 ,  1.4233 , -1.4211 ,  2.4756 ,  4.6042 ,  3.9624 ,\n",
       "       -0.74279,  4.8852 ,  1.0173 ,  4.0259 ,  1.2784 ,  3.3411 ,\n",
       "       -2.6807 ,  0.29678,  3.8845 ,  2.0576 ,  0.47953,  0.20421,\n",
       "        0.67861,  4.2415 ,  0.92695,  0.152  ,  2.8214 ,  1.8451 ,\n",
       "        4.2959 ,  1.9869 ,  0.14454,  0.61705])"
      ]
     },
     "execution_count": 422,
     "metadata": {},
     "output_type": "execute_result"
    }
   ],
   "source": [
    "# filedata < 50\n",
    "\n",
    "filedata[filedata < 5]"
   ]
  },
  {
   "cell_type": "code",
   "execution_count": 424,
   "metadata": {},
   "outputs": [
    {
     "data": {
      "text/plain": [
       "array([1, 4, 5])"
      ]
     },
     "execution_count": 424,
     "metadata": {},
     "output_type": "execute_result"
    }
   ],
   "source": [
    "# index can be a list\n",
    "f = np.array([1,2,3,4,5,6,7])\n",
    "f[[0,3,4]] "
   ]
  },
  {
   "cell_type": "markdown",
   "metadata": {},
   "source": [
    "##### Check if there is even a single element in that row or column satisfying our condition"
   ]
  },
  {
   "cell_type": "code",
   "execution_count": 432,
   "metadata": {},
   "outputs": [
    {
     "data": {
      "text/plain": [
       "array([False, False,  True,  True, False,  True, False,  True, False,\n",
       "       False, False,  True, False, False, False, False, False, False,\n",
       "       False, False, False, False, False, False, False, False,  True,\n",
       "        True,  True, False, False, False,  True, False, False, False,\n",
       "       False, False,  True, False, False, False,  True, False, False,\n",
       "       False, False, False,  True, False, False, False, False, False,\n",
       "       False, False, False, False, False, False, False, False, False,\n",
       "        True, False, False, False,  True, False, False,  True, False,\n",
       "       False, False, False, False, False, False,  True, False, False,\n",
       "       False, False, False, False, False, False, False, False, False,\n",
       "       False, False, False, False, False,  True, False])"
      ]
     },
     "execution_count": 432,
     "metadata": {},
     "output_type": "execute_result"
    }
   ],
   "source": [
    "np.any(((filedata > 10) & (filedata < 15)) , axis = 1)"
   ]
  },
  {
   "cell_type": "code",
   "execution_count": 451,
   "metadata": {},
   "outputs": [
    {
     "data": {
      "text/plain": [
       "array([ 2,  8, 14, 20])"
      ]
     },
     "execution_count": 451,
     "metadata": {},
     "output_type": "execute_result"
    }
   ],
   "source": [
    "e = np.arange(1, 31, 1)\n",
    "e = e.reshape((6,5))\n",
    "# e[2:4, 0:2]\n",
    "e[[0, 1, 2, 3], [1, 2, 3, 4]]\n",
    "\n"
   ]
  },
  {
   "cell_type": "code",
   "execution_count": null,
   "metadata": {},
   "outputs": [],
   "source": []
  },
  {
   "cell_type": "code",
   "execution_count": null,
   "metadata": {},
   "outputs": [],
   "source": []
  }
 ],
 "metadata": {
  "kernelspec": {
   "display_name": "Python 3",
   "language": "python",
   "name": "python3"
  },
  "language_info": {
   "codemirror_mode": {
    "name": "ipython",
    "version": 3
   },
   "file_extension": ".py",
   "mimetype": "text/x-python",
   "name": "python",
   "nbconvert_exporter": "python",
   "pygments_lexer": "ipython3",
   "version": "3.7.3"
  }
 },
 "nbformat": 4,
 "nbformat_minor": 2
}
