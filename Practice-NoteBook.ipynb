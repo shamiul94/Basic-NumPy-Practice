{
 "cells": [
  {
   "cell_type": "markdown",
   "metadata": {},
   "source": [
    "# Numpy Practice"
   ]
  },
  {
   "cell_type": "markdown",
   "metadata": {},
   "source": [
    "### Importing necessary libraries"
   ]
  },
  {
   "cell_type": "code",
   "execution_count": 87,
   "metadata": {},
   "outputs": [],
   "source": [
    "import numpy as np\n",
    "import matplotlib.pyplot as plt\n",
    "import scipy as sp\n",
    "import pandas as pd"
   ]
  },
  {
   "cell_type": "markdown",
   "metadata": {},
   "source": [
    "\n",
    "### 1-D Array"
   ]
  },
  {
   "cell_type": "code",
   "execution_count": 88,
   "metadata": {},
   "outputs": [
    {
     "name": "stdout",
     "output_type": "stream",
     "text": [
      "[1 3 5]\n",
      "[2 4 6]\n"
     ]
    }
   ],
   "source": [
    "a = np.array([1, 3, 5])\n",
    "b = np.array([2, 4, 6])\n",
    "\n",
    "print(a)\n",
    "print(b)"
   ]
  },
  {
   "cell_type": "markdown",
   "metadata": {},
   "source": [
    "### How to multiply 2 Matrix element by element?"
   ]
  },
  {
   "cell_type": "code",
   "execution_count": 89,
   "metadata": {},
   "outputs": [
    {
     "name": "stdout",
     "output_type": "stream",
     "text": [
      "[ 2 12 30]\n"
     ]
    }
   ],
   "source": [
    "c = a*b\n",
    "print(c)"
   ]
  },
  {
   "cell_type": "markdown",
   "metadata": {},
   "source": [
    "### 2D array"
   ]
  },
  {
   "cell_type": "code",
   "execution_count": 90,
   "metadata": {},
   "outputs": [
    {
     "name": "stdout",
     "output_type": "stream",
     "text": [
      "[[1 2 3]\n",
      " [3 4 5]]\n"
     ]
    }
   ],
   "source": [
    "d2 = np.array([[1,2,3],[3,4,5]])\n",
    "print(d2)"
   ]
  },
  {
   "cell_type": "markdown",
   "metadata": {},
   "source": [
    "### Get dimensions of an array"
   ]
  },
  {
   "cell_type": "code",
   "execution_count": 91,
   "metadata": {},
   "outputs": [
    {
     "name": "stdout",
     "output_type": "stream",
     "text": [
      "2\n"
     ]
    }
   ],
   "source": [
    "print(d2.ndim)"
   ]
  },
  {
   "cell_type": "code",
   "execution_count": 92,
   "metadata": {},
   "outputs": [
    {
     "name": "stdout",
     "output_type": "stream",
     "text": [
      "b = [1 2 3]\n",
      "data type = int16\n",
      "each item size = 2\n",
      "total item no = 3\n"
     ]
    }
   ],
   "source": [
    "#change data type of an array\n",
    "b = np.array([1, 2, 3], dtype='int16')\n",
    "print('b =', b)\n",
    "\n",
    "#get data type\n",
    "print('data type =',b.dtype)\n",
    "\n",
    "#print per item size of the array\n",
    "print('each item size =' , b.itemsize)\n",
    "\n",
    "#print total size (in item number) of array \n",
    "print('total item no =', b.size)\n"
   ]
  },
  {
   "cell_type": "code",
   "execution_count": 93,
   "metadata": {},
   "outputs": [
    {
     "name": "stdout",
     "output_type": "stream",
     "text": [
      "total byte size = 6\n",
      "total size (byte) = 6\n"
     ]
    }
   ],
   "source": [
    "#print total size (in byte)\n",
    "print('total byte size =', b.size * b.itemsize)\n",
    "\n",
    "#Alternate way to get total size (in byte)\n",
    "print('total size (byte) =', b.nbytes)"
   ]
  },
  {
   "cell_type": "code",
   "execution_count": 94,
   "metadata": {},
   "outputs": [
    {
     "name": "stdout",
     "output_type": "stream",
     "text": [
      "(3,)\n",
      "(2, 3)\n"
     ]
    }
   ],
   "source": [
    "#get shape\n",
    "print(b.shape)\n",
    "print(d2.shape)"
   ]
  },
  {
   "cell_type": "markdown",
   "metadata": {},
   "source": [
    "## Accessing, changing element of array"
   ]
  },
  {
   "cell_type": "code",
   "execution_count": 95,
   "metadata": {},
   "outputs": [
    {
     "name": "stdout",
     "output_type": "stream",
     "text": [
      "[[1 2 3 4 5 6]\n",
      " [6 5 4 3 2 1]\n",
      " [1 2 3 4 5 6]]\n"
     ]
    }
   ],
   "source": [
    "#2-D array\n",
    "a = np.array([[1,2,3,4,5,6], [6,5,4,3,2,1], [1,2,3,4,5,6]])\n",
    "print(a)"
   ]
  },
  {
   "cell_type": "code",
   "execution_count": 96,
   "metadata": {},
   "outputs": [
    {
     "name": "stdout",
     "output_type": "stream",
     "text": [
      "(3, 6)\n"
     ]
    }
   ],
   "source": [
    "print(a.shape)"
   ]
  },
  {
   "cell_type": "code",
   "execution_count": 97,
   "metadata": {},
   "outputs": [
    {
     "name": "stdout",
     "output_type": "stream",
     "text": [
      "6\n"
     ]
    }
   ],
   "source": [
    "#get a specific element\n",
    "print(a[1,-6])"
   ]
  },
  {
   "cell_type": "code",
   "execution_count": 98,
   "metadata": {},
   "outputs": [
    {
     "name": "stdout",
     "output_type": "stream",
     "text": [
      "[6 5 4 3 2 1]\n",
      "[1 6 1]\n"
     ]
    }
   ],
   "source": [
    "#get a row\n",
    "print(a[1,:])\n",
    "\n",
    "#get a column\n",
    "print(a[:, 0])"
   ]
  },
  {
   "cell_type": "code",
   "execution_count": 99,
   "metadata": {},
   "outputs": [
    {
     "name": "stdout",
     "output_type": "stream",
     "text": [
      "[5 3]\n",
      "[5 3]\n"
     ]
    }
   ],
   "source": [
    "#loop on index {start: end: increment} -> excluding the end index\n",
    "print(a[1, 1:5:2])\n",
    "print(a[1, 1:-2:2])"
   ]
  },
  {
   "cell_type": "code",
   "execution_count": 104,
   "metadata": {},
   "outputs": [
    {
     "name": "stdout",
     "output_type": "stream",
     "text": [
      "[[  1   2   3   4 200   6]\n",
      " [300 300 300 300 100 300]\n",
      " [  1   2   3   4 200   6]]\n",
      "[[  1   2   3   4 200   6]\n",
      " [300 300 300 300 200 300]\n",
      " [  1   2   3   4 200   6]]\n",
      "[[  1   2   3   4 200   6]\n",
      " [300 300 300 300 300 300]\n",
      " [  1   2   3   4 200   6]]\n"
     ]
    }
   ],
   "source": [
    "#modify\n",
    "a[1,4] = 100\n",
    "print(a)\n",
    "\n",
    "a[:,4] = 200\n",
    "print(a)\n",
    "a[1, :] = 300\n",
    "\n",
    "print(a)"
   ]
  },
  {
   "cell_type": "code",
   "execution_count": 106,
   "metadata": {},
   "outputs": [
    {
     "name": "stdout",
     "output_type": "stream",
     "text": [
      "[[[1 2]\n",
      "  [2 3]]\n",
      "\n",
      " [[3 4]\n",
      "  [4 3]]]\n"
     ]
    }
   ],
   "source": [
    "#3-d array\n",
    "a = np.array([[[1,2], [2,3]], [[3,4], [4,3]]])\n",
    "print(a)"
   ]
  },
  {
   "cell_type": "code",
   "execution_count": 110,
   "metadata": {},
   "outputs": [
    {
     "name": "stdout",
     "output_type": "stream",
     "text": [
      "[[2 3]\n",
      " [4 3]]\n"
     ]
    }
   ],
   "source": [
    "# access 3-d\n",
    "print(a[:,:,1])"
   ]
  },
  {
   "cell_type": "code",
   "execution_count": null,
   "metadata": {},
   "outputs": [],
   "source": []
  }
 ],
 "metadata": {
  "kernelspec": {
   "display_name": "Python 3",
   "language": "python",
   "name": "python3"
  },
  "language_info": {
   "codemirror_mode": {
    "name": "ipython",
    "version": 3
   },
   "file_extension": ".py",
   "mimetype": "text/x-python",
   "name": "python",
   "nbconvert_exporter": "python",
   "pygments_lexer": "ipython3",
   "version": "3.7.3"
  }
 },
 "nbformat": 4,
 "nbformat_minor": 2
}
